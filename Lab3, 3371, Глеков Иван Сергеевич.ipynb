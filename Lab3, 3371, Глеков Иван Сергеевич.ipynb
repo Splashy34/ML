{
 "cells": [
  {
   "cell_type": "markdown",
   "id": "6c70b9d9-91a9-4132-a699-cfb7cc97e269",
   "metadata": {},
   "source": [
    "Для выполнения работы используется тот же набор данных Automobile Dataset, применявшийся в предыдущих заданиях. "
   ]
  },
  {
   "cell_type": "markdown",
   "id": "1f51e058-af61-4fff-8ed3-2581de808c7e",
   "metadata": {},
   "source": [
    "В рамках работы требуется решить задачу классификации, то есть предсказать категориальный (классовый) признак на основе числовых характеристик. \n",
    "В исходном датасете присутствует атрибут origin, отражающий страну происхождения автомобилей (USA, Europe, Japan). Однако классы по этому признаку выражены неравномерно - автомобилей из США значительно больше, чем из Европы и Японии. Такой дисбаланс приводит к смещению обучения моделей и снижению объективности метрик."
   ]
  },
  {
   "cell_type": "markdown",
   "id": "8e8dbe47-ed39-453f-b8aa-a28792c99126",
   "metadata": {},
   "source": [
    "Поэтому введен новый бинарный признак economy_class, отражающий топливную эффективность автомобиля:\n",
    "1 - автомобиль экономичный (расход топлива выше медианного значения по mpg).\n",
    "0 - автомобиль менее экономичный (расход ниже медианы)."
   ]
  },
  {
   "cell_type": "markdown",
   "id": "0c6d4bb0-ddd0-4c72-aec6-7bc8e14324c7",
   "metadata": {},
   "source": [
    "Подгрузим датасет и проведем техническую подготовку для корректной работы алгоритмов классификации, заменив пропуски в horsepower на среднее значение и удалив оставшиеся неполные строки (если есть)."
   ]
  },
  {
   "cell_type": "code",
   "execution_count": 2,
   "id": "bfbc5152-2097-425a-8080-52df32fa7118",
   "metadata": {},
   "outputs": [
    {
     "name": "stdout",
     "output_type": "stream",
     "text": [
      "Размерность набора данных: (398, 9)\n",
      "Количество пропусков после очистки:\n",
      "name            0\n",
      "mpg             0\n",
      "cylinders       0\n",
      "displacement    0\n",
      "horsepower      0\n",
      "weight          0\n",
      "acceleration    0\n",
      "model_year      0\n",
      "origin          0\n",
      "dtype: int64\n"
     ]
    }
   ],
   "source": [
    "import warnings\n",
    "warnings.filterwarnings('ignore')\n",
    "import pandas as pd\n",
    "\n",
    "df = pd.read_csv(\"Automobile.csv\")\n",
    "\n",
    "# Обработка пропусков и удаление неполных строк\n",
    "df['horsepower'] = df['horsepower'].fillna(df['horsepower'].mean())\n",
    "df = df.dropna().reset_index(drop=True)\n",
    "\n",
    "print(\"Размерность набора данных:\", df.shape)\n",
    "print(\"Количество пропусков после очистки:\")\n",
    "print(df.isna().sum())"
   ]
  },
  {
   "cell_type": "markdown",
   "id": "5169ae2a-e3b2-4c18-87be-e61d48f8306d",
   "metadata": {},
   "source": [
    "Создадим бинарный целевой признак economy_class на основе медианного значения mpg."
   ]
  },
  {
   "cell_type": "code",
   "execution_count": 3,
   "id": "6b287bea-bb81-45a4-8db1-393f493b7c0a",
   "metadata": {},
   "outputs": [
    {
     "name": "stdout",
     "output_type": "stream",
     "text": [
      "economy_class\n",
      "0    207\n",
      "1    191\n",
      "Name: count, dtype: int64\n",
      "economy_class\n",
      "0    52.01\n",
      "1    47.99\n",
      "Name: proportion, dtype: float64\n"
     ]
    }
   ],
   "source": [
    "mpg_median = df['mpg'].median()\n",
    "\n",
    "# Бинарный класс: 1 - экономичные, 0 - неэкономичные\n",
    "df['economy_class'] = (df['mpg'] > mpg_median).astype(int)\n",
    "\n",
    "print(df['economy_class'].value_counts())\n",
    "print((df['economy_class'].value_counts(normalize=True) * 100).round(2))"
   ]
  },
  {
   "cell_type": "markdown",
   "id": "4d101faf-abe8-4f23-98e9-a94abbeeb20e",
   "metadata": {},
   "source": [
    "k-Nearest Neighbors (kNN) - метод ближайших соседей, основывающийся на расстояниях между объектами.\n",
    "Decision Tree (дерево решений) - интерпретируемая модель, разделяющая данные по признакам, максимизируя чистоту классов на каждом шаге."
   ]
  },
  {
   "cell_type": "markdown",
   "id": "9e67740c-19f1-4c65-97f4-1a9ef812d0f4",
   "metadata": {},
   "source": [
    "В качестве признаков используем следующие числовые атрибуты: horsepower, weight, acceleration, displacement, cylinders, power_to_weight.\n",
    "Добавим признак power_to_weight - удельную мощность автомобиля, так как он отражает соотнешие мощности и массы и напрямую связан с экономичностью."
   ]
  },
  {
   "cell_type": "code",
   "execution_count": 4,
   "id": "ab2d367b-716e-4b3b-8a4c-4098df9ac2bb",
   "metadata": {},
   "outputs": [
    {
     "name": "stdout",
     "output_type": "stream",
     "text": [
      "Размер обучающей выборки: (318, 6)\n",
      "Размер тестовой выборки: (80, 6)\n"
     ]
    }
   ],
   "source": [
    "from sklearn.model_selection import train_test_split\n",
    "from sklearn.preprocessing import RobustScaler\n",
    "\n",
    "df['power_to_weight'] = df['horsepower'] / df['weight']\n",
    "\n",
    "features = ['horsepower', 'weight', 'acceleration', 'displacement', 'cylinders', 'power_to_weight']\n",
    "target = 'economy_class'\n",
    "\n",
    "X = df[features]\n",
    "y = df[target]\n",
    "\n",
    "# Масштабирование числовых признаков (устойчиво к выбросам)\n",
    "scaler = RobustScaler()\n",
    "X_scaled = scaler.fit_transform(X)\n",
    "\n",
    "# Разделение данных на обучающую и тестовую выборки (80/20)\n",
    "X_train, X_test, y_train, y_test = train_test_split(X_scaled, y, test_size=0.2, random_state=42, stratify=y)\n",
    "\n",
    "print(\"Размер обучающей выборки:\", X_train.shape)\n",
    "print(\"Размер тестовой выборки:\", X_test.shape)"
   ]
  },
  {
   "cell_type": "markdown",
   "id": "3eaa31bb-758f-445d-bc12-9ce0c7e4c328",
   "metadata": {},
   "source": [
    "kNN классифицирует объект по большинству классов среди его ближайших соседей. Для подбора оптимального числа соседей k выполним тестирование на диапазоне от 3 до 15. После подбора параметра k выберем оптимальное значение по максимальному F1-score и ROC-AUC."
   ]
  },
  {
   "cell_type": "code",
   "execution_count": 6,
   "id": "f18202a5-8f83-4a3d-a5fb-81552fe7bde9",
   "metadata": {},
   "outputs": [
    {
     "data": {
      "text/html": [
       "<div>\n",
       "<style scoped>\n",
       "    .dataframe tbody tr th:only-of-type {\n",
       "        vertical-align: middle;\n",
       "    }\n",
       "\n",
       "    .dataframe tbody tr th {\n",
       "        vertical-align: top;\n",
       "    }\n",
       "\n",
       "    .dataframe thead th {\n",
       "        text-align: right;\n",
       "    }\n",
       "</style>\n",
       "<table border=\"1\" class=\"dataframe\">\n",
       "  <thead>\n",
       "    <tr style=\"text-align: right;\">\n",
       "      <th></th>\n",
       "      <th>k</th>\n",
       "      <th>accuracy</th>\n",
       "      <th>precision</th>\n",
       "      <th>recall</th>\n",
       "      <th>f1</th>\n",
       "      <th>roc_auc</th>\n",
       "    </tr>\n",
       "  </thead>\n",
       "  <tbody>\n",
       "    <tr>\n",
       "      <th>0</th>\n",
       "      <td>3</td>\n",
       "      <td>0.9000</td>\n",
       "      <td>0.875000</td>\n",
       "      <td>0.921053</td>\n",
       "      <td>0.897436</td>\n",
       "      <td>0.972431</td>\n",
       "    </tr>\n",
       "    <tr>\n",
       "      <th>1</th>\n",
       "      <td>4</td>\n",
       "      <td>0.8625</td>\n",
       "      <td>0.864865</td>\n",
       "      <td>0.842105</td>\n",
       "      <td>0.853333</td>\n",
       "      <td>0.963033</td>\n",
       "    </tr>\n",
       "    <tr>\n",
       "      <th>2</th>\n",
       "      <td>5</td>\n",
       "      <td>0.8750</td>\n",
       "      <td>0.818182</td>\n",
       "      <td>0.947368</td>\n",
       "      <td>0.878049</td>\n",
       "      <td>0.962719</td>\n",
       "    </tr>\n",
       "    <tr>\n",
       "      <th>3</th>\n",
       "      <td>6</td>\n",
       "      <td>0.9000</td>\n",
       "      <td>0.857143</td>\n",
       "      <td>0.947368</td>\n",
       "      <td>0.900000</td>\n",
       "      <td>0.968045</td>\n",
       "    </tr>\n",
       "    <tr>\n",
       "      <th>4</th>\n",
       "      <td>7</td>\n",
       "      <td>0.9000</td>\n",
       "      <td>0.840909</td>\n",
       "      <td>0.973684</td>\n",
       "      <td>0.902439</td>\n",
       "      <td>0.961779</td>\n",
       "    </tr>\n",
       "    <tr>\n",
       "      <th>5</th>\n",
       "      <td>8</td>\n",
       "      <td>0.8750</td>\n",
       "      <td>0.833333</td>\n",
       "      <td>0.921053</td>\n",
       "      <td>0.875000</td>\n",
       "      <td>0.960526</td>\n",
       "    </tr>\n",
       "    <tr>\n",
       "      <th>6</th>\n",
       "      <td>9</td>\n",
       "      <td>0.8625</td>\n",
       "      <td>0.813953</td>\n",
       "      <td>0.921053</td>\n",
       "      <td>0.864198</td>\n",
       "      <td>0.956767</td>\n",
       "    </tr>\n",
       "    <tr>\n",
       "      <th>7</th>\n",
       "      <td>10</td>\n",
       "      <td>0.8625</td>\n",
       "      <td>0.813953</td>\n",
       "      <td>0.921053</td>\n",
       "      <td>0.864198</td>\n",
       "      <td>0.954261</td>\n",
       "    </tr>\n",
       "    <tr>\n",
       "      <th>8</th>\n",
       "      <td>11</td>\n",
       "      <td>0.8750</td>\n",
       "      <td>0.818182</td>\n",
       "      <td>0.947368</td>\n",
       "      <td>0.878049</td>\n",
       "      <td>0.959273</td>\n",
       "    </tr>\n",
       "    <tr>\n",
       "      <th>9</th>\n",
       "      <td>12</td>\n",
       "      <td>0.8625</td>\n",
       "      <td>0.813953</td>\n",
       "      <td>0.921053</td>\n",
       "      <td>0.864198</td>\n",
       "      <td>0.966165</td>\n",
       "    </tr>\n",
       "    <tr>\n",
       "      <th>10</th>\n",
       "      <td>13</td>\n",
       "      <td>0.8750</td>\n",
       "      <td>0.818182</td>\n",
       "      <td>0.947368</td>\n",
       "      <td>0.878049</td>\n",
       "      <td>0.963346</td>\n",
       "    </tr>\n",
       "    <tr>\n",
       "      <th>11</th>\n",
       "      <td>14</td>\n",
       "      <td>0.8750</td>\n",
       "      <td>0.818182</td>\n",
       "      <td>0.947368</td>\n",
       "      <td>0.878049</td>\n",
       "      <td>0.962719</td>\n",
       "    </tr>\n",
       "    <tr>\n",
       "      <th>12</th>\n",
       "      <td>15</td>\n",
       "      <td>0.8750</td>\n",
       "      <td>0.818182</td>\n",
       "      <td>0.947368</td>\n",
       "      <td>0.878049</td>\n",
       "      <td>0.959273</td>\n",
       "    </tr>\n",
       "  </tbody>\n",
       "</table>\n",
       "</div>"
      ],
      "text/plain": [
       "     k  accuracy  precision    recall        f1   roc_auc\n",
       "0    3    0.9000   0.875000  0.921053  0.897436  0.972431\n",
       "1    4    0.8625   0.864865  0.842105  0.853333  0.963033\n",
       "2    5    0.8750   0.818182  0.947368  0.878049  0.962719\n",
       "3    6    0.9000   0.857143  0.947368  0.900000  0.968045\n",
       "4    7    0.9000   0.840909  0.973684  0.902439  0.961779\n",
       "5    8    0.8750   0.833333  0.921053  0.875000  0.960526\n",
       "6    9    0.8625   0.813953  0.921053  0.864198  0.956767\n",
       "7   10    0.8625   0.813953  0.921053  0.864198  0.954261\n",
       "8   11    0.8750   0.818182  0.947368  0.878049  0.959273\n",
       "9   12    0.8625   0.813953  0.921053  0.864198  0.966165\n",
       "10  13    0.8750   0.818182  0.947368  0.878049  0.963346\n",
       "11  14    0.8750   0.818182  0.947368  0.878049  0.962719\n",
       "12  15    0.8750   0.818182  0.947368  0.878049  0.959273"
      ]
     },
     "metadata": {},
     "output_type": "display_data"
    },
    {
     "name": "stdout",
     "output_type": "stream",
     "text": [
      "Оптимальное значение k: 3\n"
     ]
    }
   ],
   "source": [
    "from sklearn.neighbors import KNeighborsClassifier\n",
    "from sklearn.metrics import accuracy_score, precision_score, recall_score, f1_score, roc_auc_score\n",
    "\n",
    "import numpy as np\n",
    "\n",
    "results_knn = []\n",
    "\n",
    "for k in range(3, 16):\n",
    "    model_knn = KNeighborsClassifier(n_neighbors=k)\n",
    "    model_knn.fit(X_train, y_train)\n",
    "    y_pred = model_knn.predict(X_test)\n",
    "    y_proba = model_knn.predict_proba(X_test)[:, 1]\n",
    "    \n",
    "    results_knn.append({\n",
    "        'k': k,\n",
    "        'accuracy': accuracy_score(y_test, y_pred),\n",
    "        'precision': precision_score(y_test, y_pred),\n",
    "        'recall': recall_score(y_test, y_pred),\n",
    "        'f1': f1_score(y_test, y_pred),\n",
    "        'roc_auc': roc_auc_score(y_test, y_proba)\n",
    "    })\n",
    "\n",
    "results_knn = pd.DataFrame(results_knn)\n",
    "display(results_knn)\n",
    "\n",
    "best_k = results_knn.loc[results_knn['roc_auc'].idxmax(), 'k']\n",
    "print(\"Оптимальное значение k:\", best_k)"
   ]
  },
  {
   "cell_type": "markdown",
   "id": "55775114-76c5-4df8-a5a1-948a645ac053",
   "metadata": {},
   "source": [
    "Модель дерева решений формирует иерархию правил, делящих данные на подгруппы. Подберем параметры max_depth (глубина дерева) и min_samples_leaf(минимум объектов в листе), чтобы избежать переобучения и достичь сбалансированного результата. После подбора выберем дерево с максимальным ROC-AUC."
   ]
  },
  {
   "cell_type": "code",
   "execution_count": 8,
   "id": "a44c97d9-7cbd-4814-a06e-8a90952f3a1c",
   "metadata": {},
   "outputs": [
    {
     "data": {
      "text/html": [
       "<div>\n",
       "<style scoped>\n",
       "    .dataframe tbody tr th:only-of-type {\n",
       "        vertical-align: middle;\n",
       "    }\n",
       "\n",
       "    .dataframe tbody tr th {\n",
       "        vertical-align: top;\n",
       "    }\n",
       "\n",
       "    .dataframe thead th {\n",
       "        text-align: right;\n",
       "    }\n",
       "</style>\n",
       "<table border=\"1\" class=\"dataframe\">\n",
       "  <thead>\n",
       "    <tr style=\"text-align: right;\">\n",
       "      <th></th>\n",
       "      <th>max_depth</th>\n",
       "      <th>accuracy</th>\n",
       "      <th>precision</th>\n",
       "      <th>recall</th>\n",
       "      <th>f1</th>\n",
       "      <th>roc_auc</th>\n",
       "    </tr>\n",
       "  </thead>\n",
       "  <tbody>\n",
       "    <tr>\n",
       "      <th>0</th>\n",
       "      <td>3.0</td>\n",
       "      <td>0.9000</td>\n",
       "      <td>0.857143</td>\n",
       "      <td>0.947368</td>\n",
       "      <td>0.900000</td>\n",
       "      <td>0.938596</td>\n",
       "    </tr>\n",
       "    <tr>\n",
       "      <th>1</th>\n",
       "      <td>5.0</td>\n",
       "      <td>0.8625</td>\n",
       "      <td>0.885714</td>\n",
       "      <td>0.815789</td>\n",
       "      <td>0.849315</td>\n",
       "      <td>0.962406</td>\n",
       "    </tr>\n",
       "    <tr>\n",
       "      <th>2</th>\n",
       "      <td>7.0</td>\n",
       "      <td>0.8625</td>\n",
       "      <td>0.864865</td>\n",
       "      <td>0.842105</td>\n",
       "      <td>0.853333</td>\n",
       "      <td>0.883145</td>\n",
       "    </tr>\n",
       "    <tr>\n",
       "      <th>3</th>\n",
       "      <td>9.0</td>\n",
       "      <td>0.8500</td>\n",
       "      <td>0.842105</td>\n",
       "      <td>0.842105</td>\n",
       "      <td>0.842105</td>\n",
       "      <td>0.864035</td>\n",
       "    </tr>\n",
       "    <tr>\n",
       "      <th>4</th>\n",
       "      <td>NaN</td>\n",
       "      <td>0.8750</td>\n",
       "      <td>0.850000</td>\n",
       "      <td>0.894737</td>\n",
       "      <td>0.871795</td>\n",
       "      <td>0.875940</td>\n",
       "    </tr>\n",
       "  </tbody>\n",
       "</table>\n",
       "</div>"
      ],
      "text/plain": [
       "   max_depth  accuracy  precision    recall        f1   roc_auc\n",
       "0        3.0    0.9000   0.857143  0.947368  0.900000  0.938596\n",
       "1        5.0    0.8625   0.885714  0.815789  0.849315  0.962406\n",
       "2        7.0    0.8625   0.864865  0.842105  0.853333  0.883145\n",
       "3        9.0    0.8500   0.842105  0.842105  0.842105  0.864035\n",
       "4        NaN    0.8750   0.850000  0.894737  0.871795  0.875940"
      ]
     },
     "metadata": {},
     "output_type": "display_data"
    },
    {
     "name": "stdout",
     "output_type": "stream",
     "text": [
      "Оптимальная глубина дерева: 5.0\n"
     ]
    }
   ],
   "source": [
    "from sklearn.tree import DecisionTreeClassifier\n",
    "\n",
    "results_tree = []\n",
    "\n",
    "for depth in [3, 5, 7, 9, None]:\n",
    "    model_tree = DecisionTreeClassifier(max_depth=depth, random_state=42)\n",
    "    model_tree.fit(X_train, y_train)\n",
    "    y_pred = model_tree.predict(X_test)\n",
    "    y_proba = model_tree.predict_proba(X_test)[:, 1]\n",
    "    \n",
    "    results_tree.append({\n",
    "        'max_depth': depth,\n",
    "        'accuracy': accuracy_score(y_test, y_pred),\n",
    "        'precision': precision_score(y_test, y_pred),\n",
    "        'recall': recall_score(y_test, y_pred),\n",
    "        'f1': f1_score(y_test, y_pred),\n",
    "        'roc_auc': roc_auc_score(y_test, y_proba)\n",
    "    })\n",
    "\n",
    "results_tree = pd.DataFrame(results_tree)\n",
    "display(results_tree)\n",
    "\n",
    "best_depth = results_tree.loc[results_tree['roc_auc'].idxmax(), 'max_depth']\n",
    "print(\"Оптимальная глубина дерева:\", best_depth)"
   ]
  },
  {
   "cell_type": "markdown",
   "id": "fa5d2f71-0c12-4427-b9a2-b50d8043e189",
   "metadata": {},
   "source": [
    "После подбора оптимального k = 3 для kNN и max_depth = 5 для дерева решений проведем финальное сравнение их работы на тестовой выборке.\n",
    "В качестве метрик оценки качества используются:\n",
    "Accuracy - доля верно классифицированных примеров.\n",
    "Precision - точность по положительному классу. \n",
    "Recall - полнота (доля правильно найденных положительных объектов).\n",
    "F1-мера - гармоническое среднее между Precision и Recall.\n",
    "ROC-AUC - качество ранжирования предсказаний (чем ближе к 1, тем лучше)."
   ]
  },
  {
   "cell_type": "code",
   "execution_count": 9,
   "id": "3b0ebbb1-f726-4aec-9b5a-3da49addb8f1",
   "metadata": {},
   "outputs": [
    {
     "data": {
      "text/html": [
       "<div>\n",
       "<style scoped>\n",
       "    .dataframe tbody tr th:only-of-type {\n",
       "        vertical-align: middle;\n",
       "    }\n",
       "\n",
       "    .dataframe tbody tr th {\n",
       "        vertical-align: top;\n",
       "    }\n",
       "\n",
       "    .dataframe thead th {\n",
       "        text-align: right;\n",
       "    }\n",
       "</style>\n",
       "<table border=\"1\" class=\"dataframe\">\n",
       "  <thead>\n",
       "    <tr style=\"text-align: right;\">\n",
       "      <th></th>\n",
       "      <th>Модель</th>\n",
       "      <th>Accuracy</th>\n",
       "      <th>Precision</th>\n",
       "      <th>Recall</th>\n",
       "      <th>F1</th>\n",
       "      <th>ROC-AUC</th>\n",
       "    </tr>\n",
       "  </thead>\n",
       "  <tbody>\n",
       "    <tr>\n",
       "      <th>0</th>\n",
       "      <td>kNN</td>\n",
       "      <td>0.9000</td>\n",
       "      <td>0.875000</td>\n",
       "      <td>0.921053</td>\n",
       "      <td>0.897436</td>\n",
       "      <td>0.972431</td>\n",
       "    </tr>\n",
       "    <tr>\n",
       "      <th>1</th>\n",
       "      <td>Decision Tree</td>\n",
       "      <td>0.8625</td>\n",
       "      <td>0.885714</td>\n",
       "      <td>0.815789</td>\n",
       "      <td>0.849315</td>\n",
       "      <td>0.962406</td>\n",
       "    </tr>\n",
       "  </tbody>\n",
       "</table>\n",
       "</div>"
      ],
      "text/plain": [
       "          Модель  Accuracy  Precision    Recall        F1   ROC-AUC\n",
       "0            kNN    0.9000   0.875000  0.921053  0.897436  0.972431\n",
       "1  Decision Tree    0.8625   0.885714  0.815789  0.849315  0.962406"
      ]
     },
     "metadata": {},
     "output_type": "display_data"
    }
   ],
   "source": [
    "from sklearn.metrics import confusion_matrix, ConfusionMatrixDisplay, roc_curve\n",
    "\n",
    "# Финальное обучение лучших моделей\n",
    "knn_best = KNeighborsClassifier(n_neighbors=3)\n",
    "tree_best = DecisionTreeClassifier(max_depth=5, random_state=42)\n",
    "\n",
    "knn_best.fit(X_train, y_train)\n",
    "tree_best.fit(X_train, y_train)\n",
    "\n",
    "# Предсказания и вероятности\n",
    "y_pred_knn = knn_best.predict(X_test)\n",
    "y_pred_tree = tree_best.predict(X_test)\n",
    "\n",
    "y_proba_knn = knn_best.predict_proba(X_test)[:, 1]\n",
    "y_proba_tree = tree_best.predict_proba(X_test)[:, 1]\n",
    "\n",
    "# Сводные метрики\n",
    "results_final = pd.DataFrame([\n",
    "    {\n",
    "        'Модель': 'kNN',\n",
    "        'Accuracy': accuracy_score(y_test, y_pred_knn),\n",
    "        'Precision': precision_score(y_test, y_pred_knn),\n",
    "        'Recall': recall_score(y_test, y_pred_knn),\n",
    "        'F1': f1_score(y_test, y_pred_knn),\n",
    "        'ROC-AUC': roc_auc_score(y_test, y_proba_knn)\n",
    "    },\n",
    "    {\n",
    "        'Модель': 'Decision Tree',\n",
    "        'Accuracy': accuracy_score(y_test, y_pred_tree),\n",
    "        'Precision': precision_score(y_test, y_pred_tree),\n",
    "        'Recall': recall_score(y_test, y_pred_tree),\n",
    "        'F1': f1_score(y_test, y_pred_tree),\n",
    "        'ROC-AUC': roc_auc_score(y_test, y_proba_tree)\n",
    "    }\n",
    "])\n",
    "\n",
    "display(results_final)"
   ]
  },
  {
   "cell_type": "code",
   "execution_count": 11,
   "id": "763790eb-6b6c-4ccd-9beb-7d423985187b",
   "metadata": {},
   "outputs": [
    {
     "data": {
      "image/png": "[encoded data removed]",
      "text/plain": [
       "<Figure size 1200x500 with 2 Axes>"
      ]
     },
     "metadata": {},
     "output_type": "display_data"
    },
    {
     "data": {
      "image/png": "[encoded data removed]",
      "text/plain": [
       "<Figure size 700x600 with 1 Axes>"
      ]
     },
     "metadata": {},
     "output_type": "display_data"
    }
   ],
   "source": [
    "import matplotlib.pyplot as plt\n",
    "# Матрицы ошибок\n",
    "fig, ax = plt.subplots(1, 2, figsize=(12, 5))\n",
    "ConfusionMatrixDisplay(confusion_matrix(y_test, y_pred_knn), display_labels=[\"0 (неэкономичный)\", \"1 (экономичный)\"]).plot(ax=ax[0], cmap=\"Blues\", colorbar=False)\n",
    "ax[0].set_title(\"Confusion Matrix — kNN\")\n",
    "\n",
    "ConfusionMatrixDisplay(confusion_matrix(y_test, y_pred_tree), display_labels=[\"0 (неэкономичный)\", \"1 (экономичный)\"]).plot(ax=ax[1], cmap=\"Oranges\", colorbar=False)\n",
    "ax[1].set_title(\"Confusion Matrix — Decision Tree\")\n",
    "plt.tight_layout()\n",
    "plt.show()\n",
    "\n",
    "# ROC-кривые\n",
    "fpr_knn, tpr_knn, _ = roc_curve(y_test, y_proba_knn)\n",
    "fpr_tree, tpr_tree, _ = roc_curve(y_test, y_proba_tree)\n",
    "\n",
    "plt.figure(figsize=(7, 6))\n",
    "plt.plot(fpr_knn, tpr_knn, label=\"kNN\", color=\"blue\")\n",
    "plt.plot(fpr_tree, tpr_tree, label=\"Decision Tree\", color=\"orange\")\n",
    "plt.plot([0, 1], [0, 1], linestyle=\"--\", color=\"gray\")\n",
    "plt.xlabel(\"False Positive Rate\")\n",
    "plt.ylabel(\"True Positive Rate\")\n",
    "plt.title(\"ROC-кривые моделей\")\n",
    "plt.legend()\n",
    "plt.grid(alpha=0.3)\n",
    "plt.show()"
   ]
  },
  {
   "cell_type": "markdown",
   "id": "102e3397-043d-4bd8-92bd-4648b1699a61",
   "metadata": {},
   "source": [
    "Визуальный анализ показывает (матрицы ошибок и roc-кривые) показал высокое качество обеих моделей. \n",
    "kNN - обеспечивает наилучшие результаты по показателям Recall, F1 и ROC-AUC, что говорит о его способости точнее классифицировать экономичные авто.\n",
    "Decision tree - демонстрирует сопоставимую точность, но проявляет большую осторожность при отнесении объектов к классу \"экономичный\" - из-за чего имеет чуть меньший Recall, но более высокую Precision. "
   ]
  },
  {
   "cell_type": "markdown",
   "id": "acc557d2-e0e4-461e-8d83-461ac5a0b5e8",
   "metadata": {},
   "source": [
    "Высокие показатели ROC-AUC (0.96-0.97) показывают, что обе модели хорошо отделяют экономичные автомобили от неэкономичных. Это происходит потому, что исходные признаки (мощность, вес и т.д.) логически и статистически связаны с топливной эффективностью - модель легко улавливает эти зависимости."
   ]
  },
  {
   "cell_type": "markdown",
   "id": "588715b9-4554-48d4-bcb4-4d9103fdd9a2",
   "metadata": {},
   "source": [
    "Различие в поведении моделей объясняется их природой: \n",
    "kNN учитывает локальное окружение объектов, поэтому лучше подстраивается под плавные переходы между классами.\n",
    "Decision Tree опирается на пороговые разбиения и строит более жесткие границы, что делает его чуть менее гибким, но более интерпретируемым."
   ]
  },
  {
   "cell_type": "markdown",
   "id": "2f1c89c2-d676-4b64-887a-c4019ee0f233",
   "metadata": {},
   "source": [
    "Вывод:\n",
    "Результаты моделей: kNN: Accuracy 0.9000, Precision 0.875000, Recall 0.921053, F1 0.897436, ROC‑AUC 0.972431.\n",
    "Decision Tree (best): Accuracy 0.8625, Precision 0.885714, Recall 0.815789, F1 0.849315, ROC‑AUC 0.962406.\n",
    "\n",
    "Обе модели показали высокую эффективность классификации на сбалансированном наборе данных. Метод kNN оказался немного более точным и чувствительным к экономичным авто, в то время как Decision Tree проявил большую устойчивость и осторожность в прогнозах.\n",
    "\n",
    "В целом обе модели успешно решают поставленную задачу - предсказание топливной эффективности автомобилей по их техническим характеристикам, демонстрируя качество на уровне ROC-AUC, близком к 1, что соответствует отличной способности различать классы."
   ]
  }
 ],
 "metadata": {
  "kernelspec": {
   "display_name": "Python [conda env:base] *",
   "language": "python",
   "name": "conda-base-py"
  },
  "language_info": {
   "codemirror_mode": {
    "name": "ipython",
    "version": 3
   },
   "file_extension": ".py",
   "mimetype": "text/x-python",
   "name": "python",
   "nbconvert_exporter": "python",
   "pygments_lexer": "ipython3",
   "version": "3.13.5"
  }
 },
 "nbformat": 4,
 "nbformat_minor": 5
}
